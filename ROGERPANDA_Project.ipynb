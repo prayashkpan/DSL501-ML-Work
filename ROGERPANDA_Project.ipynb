{
  "nbformat": 4,
  "nbformat_minor": 0,
  "metadata": {
    "colab": {
      "provenance": [],
      "gpuType": "T4"
    },
    "kernelspec": {
      "name": "python3",
      "display_name": "Python 3"
    },
    "language_info": {
      "name": "python"
    },
    "accelerator": "GPU"
  },
  "cells": [
    {
      "cell_type": "markdown",
      "source": [
        "# Harnessing the Power of Kolmogorov Arnould Network (KAN)"
      ],
      "metadata": {
        "id": "bUMQMczK3PkH"
      }
    },
    {
      "cell_type": "markdown",
      "source": [
        "## Installing and Importing important libraries."
      ],
      "metadata": {
        "id": "o5DOMxIJ3YuL"
      }
    },
    {
      "cell_type": "markdown",
      "source": [
        "To try the network in Tensorflow, we will first install the tfkan library and later import it with other essential libraries."
      ],
      "metadata": {
        "id": "HfWqg7us4XHU"
      }
    },
    {
      "cell_type": "code",
      "source": [
        "!pip install tfkan"
      ],
      "metadata": {
        "colab": {
          "base_uri": "https://localhost:8080/"
        },
        "id": "0EDJfEDu6SpZ",
        "outputId": "9bf37462-d3ef-4ede-9fd1-c16c732d78e3"
      },
      "execution_count": 1,
      "outputs": [
        {
          "output_type": "stream",
          "name": "stdout",
          "text": [
            "Collecting tfkan\n",
            "  Downloading tfkan-0.1.1-py3-none-any.whl.metadata (5.3 kB)\n",
            "Collecting tensorflow<=2.15.1,>=2.10.0 (from tfkan)\n",
            "  Downloading tensorflow-2.15.1-cp310-cp310-manylinux_2_17_x86_64.manylinux2014_x86_64.whl.metadata (4.2 kB)\n",
            "Collecting keras<=2.15.1 (from tfkan)\n",
            "  Downloading keras-2.15.0-py3-none-any.whl.metadata (2.4 kB)\n",
            "Requirement already satisfied: absl-py>=1.0.0 in /usr/local/lib/python3.10/dist-packages (from tensorflow<=2.15.1,>=2.10.0->tfkan) (1.4.0)\n",
            "Requirement already satisfied: astunparse>=1.6.0 in /usr/local/lib/python3.10/dist-packages (from tensorflow<=2.15.1,>=2.10.0->tfkan) (1.6.3)\n",
            "Requirement already satisfied: flatbuffers>=23.5.26 in /usr/local/lib/python3.10/dist-packages (from tensorflow<=2.15.1,>=2.10.0->tfkan) (24.3.25)\n",
            "Requirement already satisfied: gast!=0.5.0,!=0.5.1,!=0.5.2,>=0.2.1 in /usr/local/lib/python3.10/dist-packages (from tensorflow<=2.15.1,>=2.10.0->tfkan) (0.6.0)\n",
            "Requirement already satisfied: google-pasta>=0.1.1 in /usr/local/lib/python3.10/dist-packages (from tensorflow<=2.15.1,>=2.10.0->tfkan) (0.2.0)\n",
            "Requirement already satisfied: h5py>=2.9.0 in /usr/local/lib/python3.10/dist-packages (from tensorflow<=2.15.1,>=2.10.0->tfkan) (3.11.0)\n",
            "Requirement already satisfied: libclang>=13.0.0 in /usr/local/lib/python3.10/dist-packages (from tensorflow<=2.15.1,>=2.10.0->tfkan) (18.1.1)\n",
            "Collecting ml-dtypes~=0.3.1 (from tensorflow<=2.15.1,>=2.10.0->tfkan)\n",
            "  Downloading ml_dtypes-0.3.2-cp310-cp310-manylinux_2_17_x86_64.manylinux2014_x86_64.whl.metadata (20 kB)\n",
            "Requirement already satisfied: numpy<2.0.0,>=1.23.5 in /usr/local/lib/python3.10/dist-packages (from tensorflow<=2.15.1,>=2.10.0->tfkan) (1.26.4)\n",
            "Requirement already satisfied: opt-einsum>=2.3.2 in /usr/local/lib/python3.10/dist-packages (from tensorflow<=2.15.1,>=2.10.0->tfkan) (3.4.0)\n",
            "Requirement already satisfied: packaging in /usr/local/lib/python3.10/dist-packages (from tensorflow<=2.15.1,>=2.10.0->tfkan) (24.1)\n",
            "Requirement already satisfied: protobuf!=4.21.0,!=4.21.1,!=4.21.2,!=4.21.3,!=4.21.4,!=4.21.5,<5.0.0dev,>=3.20.3 in /usr/local/lib/python3.10/dist-packages (from tensorflow<=2.15.1,>=2.10.0->tfkan) (3.20.3)\n",
            "Requirement already satisfied: setuptools in /usr/local/lib/python3.10/dist-packages (from tensorflow<=2.15.1,>=2.10.0->tfkan) (71.0.4)\n",
            "Requirement already satisfied: six>=1.12.0 in /usr/local/lib/python3.10/dist-packages (from tensorflow<=2.15.1,>=2.10.0->tfkan) (1.16.0)\n",
            "Requirement already satisfied: termcolor>=1.1.0 in /usr/local/lib/python3.10/dist-packages (from tensorflow<=2.15.1,>=2.10.0->tfkan) (2.5.0)\n",
            "Requirement already satisfied: typing-extensions>=3.6.6 in /usr/local/lib/python3.10/dist-packages (from tensorflow<=2.15.1,>=2.10.0->tfkan) (4.12.2)\n",
            "Collecting wrapt<1.15,>=1.11.0 (from tensorflow<=2.15.1,>=2.10.0->tfkan)\n",
            "  Downloading wrapt-1.14.1-cp310-cp310-manylinux_2_5_x86_64.manylinux1_x86_64.manylinux_2_17_x86_64.manylinux2014_x86_64.whl.metadata (6.7 kB)\n",
            "Requirement already satisfied: tensorflow-io-gcs-filesystem>=0.23.1 in /usr/local/lib/python3.10/dist-packages (from tensorflow<=2.15.1,>=2.10.0->tfkan) (0.37.1)\n",
            "Requirement already satisfied: grpcio<2.0,>=1.24.3 in /usr/local/lib/python3.10/dist-packages (from tensorflow<=2.15.1,>=2.10.0->tfkan) (1.64.1)\n",
            "Collecting tensorboard<2.16,>=2.15 (from tensorflow<=2.15.1,>=2.10.0->tfkan)\n",
            "  Downloading tensorboard-2.15.2-py3-none-any.whl.metadata (1.7 kB)\n",
            "Collecting tensorflow-estimator<2.16,>=2.15.0 (from tensorflow<=2.15.1,>=2.10.0->tfkan)\n",
            "  Downloading tensorflow_estimator-2.15.0-py2.py3-none-any.whl.metadata (1.3 kB)\n",
            "Requirement already satisfied: wheel<1.0,>=0.23.0 in /usr/local/lib/python3.10/dist-packages (from astunparse>=1.6.0->tensorflow<=2.15.1,>=2.10.0->tfkan) (0.44.0)\n",
            "Requirement already satisfied: google-auth<3,>=1.6.3 in /usr/local/lib/python3.10/dist-packages (from tensorboard<2.16,>=2.15->tensorflow<=2.15.1,>=2.10.0->tfkan) (2.27.0)\n",
            "Requirement already satisfied: google-auth-oauthlib<2,>=0.5 in /usr/local/lib/python3.10/dist-packages (from tensorboard<2.16,>=2.15->tensorflow<=2.15.1,>=2.10.0->tfkan) (1.2.1)\n",
            "Requirement already satisfied: markdown>=2.6.8 in /usr/local/lib/python3.10/dist-packages (from tensorboard<2.16,>=2.15->tensorflow<=2.15.1,>=2.10.0->tfkan) (3.7)\n",
            "Requirement already satisfied: requests<3,>=2.21.0 in /usr/local/lib/python3.10/dist-packages (from tensorboard<2.16,>=2.15->tensorflow<=2.15.1,>=2.10.0->tfkan) (2.32.3)\n",
            "Requirement already satisfied: tensorboard-data-server<0.8.0,>=0.7.0 in /usr/local/lib/python3.10/dist-packages (from tensorboard<2.16,>=2.15->tensorflow<=2.15.1,>=2.10.0->tfkan) (0.7.2)\n",
            "Requirement already satisfied: werkzeug>=1.0.1 in /usr/local/lib/python3.10/dist-packages (from tensorboard<2.16,>=2.15->tensorflow<=2.15.1,>=2.10.0->tfkan) (3.0.4)\n",
            "Requirement already satisfied: cachetools<6.0,>=2.0.0 in /usr/local/lib/python3.10/dist-packages (from google-auth<3,>=1.6.3->tensorboard<2.16,>=2.15->tensorflow<=2.15.1,>=2.10.0->tfkan) (5.5.0)\n",
            "Requirement already satisfied: pyasn1-modules>=0.2.1 in /usr/local/lib/python3.10/dist-packages (from google-auth<3,>=1.6.3->tensorboard<2.16,>=2.15->tensorflow<=2.15.1,>=2.10.0->tfkan) (0.4.1)\n",
            "Requirement already satisfied: rsa<5,>=3.1.4 in /usr/local/lib/python3.10/dist-packages (from google-auth<3,>=1.6.3->tensorboard<2.16,>=2.15->tensorflow<=2.15.1,>=2.10.0->tfkan) (4.9)\n",
            "Requirement already satisfied: requests-oauthlib>=0.7.0 in /usr/local/lib/python3.10/dist-packages (from google-auth-oauthlib<2,>=0.5->tensorboard<2.16,>=2.15->tensorflow<=2.15.1,>=2.10.0->tfkan) (1.3.1)\n",
            "Requirement already satisfied: charset-normalizer<4,>=2 in /usr/local/lib/python3.10/dist-packages (from requests<3,>=2.21.0->tensorboard<2.16,>=2.15->tensorflow<=2.15.1,>=2.10.0->tfkan) (3.4.0)\n",
            "Requirement already satisfied: idna<4,>=2.5 in /usr/local/lib/python3.10/dist-packages (from requests<3,>=2.21.0->tensorboard<2.16,>=2.15->tensorflow<=2.15.1,>=2.10.0->tfkan) (3.10)\n",
            "Requirement already satisfied: urllib3<3,>=1.21.1 in /usr/local/lib/python3.10/dist-packages (from requests<3,>=2.21.0->tensorboard<2.16,>=2.15->tensorflow<=2.15.1,>=2.10.0->tfkan) (2.2.3)\n",
            "Requirement already satisfied: certifi>=2017.4.17 in /usr/local/lib/python3.10/dist-packages (from requests<3,>=2.21.0->tensorboard<2.16,>=2.15->tensorflow<=2.15.1,>=2.10.0->tfkan) (2024.8.30)\n",
            "Requirement already satisfied: MarkupSafe>=2.1.1 in /usr/local/lib/python3.10/dist-packages (from werkzeug>=1.0.1->tensorboard<2.16,>=2.15->tensorflow<=2.15.1,>=2.10.0->tfkan) (3.0.1)\n",
            "Requirement already satisfied: pyasn1<0.7.0,>=0.4.6 in /usr/local/lib/python3.10/dist-packages (from pyasn1-modules>=0.2.1->google-auth<3,>=1.6.3->tensorboard<2.16,>=2.15->tensorflow<=2.15.1,>=2.10.0->tfkan) (0.6.1)\n",
            "Requirement already satisfied: oauthlib>=3.0.0 in /usr/local/lib/python3.10/dist-packages (from requests-oauthlib>=0.7.0->google-auth-oauthlib<2,>=0.5->tensorboard<2.16,>=2.15->tensorflow<=2.15.1,>=2.10.0->tfkan) (3.2.2)\n",
            "Downloading tfkan-0.1.1-py3-none-any.whl (12 kB)\n",
            "Downloading keras-2.15.0-py3-none-any.whl (1.7 MB)\n",
            "\u001b[2K   \u001b[90m━━━━━━━━━━━━━━━━━━━━━━━━━━━━━━━━━━━━━━━━\u001b[0m \u001b[32m1.7/1.7 MB\u001b[0m \u001b[31m37.0 MB/s\u001b[0m eta \u001b[36m0:00:00\u001b[0m\n",
            "\u001b[?25hDownloading tensorflow-2.15.1-cp310-cp310-manylinux_2_17_x86_64.manylinux2014_x86_64.whl (475.2 MB)\n",
            "\u001b[2K   \u001b[90m━━━━━━━━━━━━━━━━━━━━━━━━━━━━━━━━━━━━━━━━\u001b[0m \u001b[32m475.2/475.2 MB\u001b[0m \u001b[31m3.4 MB/s\u001b[0m eta \u001b[36m0:00:00\u001b[0m\n",
            "\u001b[?25hDownloading ml_dtypes-0.3.2-cp310-cp310-manylinux_2_17_x86_64.manylinux2014_x86_64.whl (2.2 MB)\n",
            "\u001b[2K   \u001b[90m━━━━━━━━━━━━━━━━━━━━━━━━━━━━━━━━━━━━━━━━\u001b[0m \u001b[32m2.2/2.2 MB\u001b[0m \u001b[31m62.8 MB/s\u001b[0m eta \u001b[36m0:00:00\u001b[0m\n",
            "\u001b[?25hDownloading tensorboard-2.15.2-py3-none-any.whl (5.5 MB)\n",
            "\u001b[2K   \u001b[90m━━━━━━━━━━━━━━━━━━━━━━━━━━━━━━━━━━━━━━━━\u001b[0m \u001b[32m5.5/5.5 MB\u001b[0m \u001b[31m74.0 MB/s\u001b[0m eta \u001b[36m0:00:00\u001b[0m\n",
            "\u001b[?25hDownloading tensorflow_estimator-2.15.0-py2.py3-none-any.whl (441 kB)\n",
            "\u001b[2K   \u001b[90m━━━━━━━━━━━━━━━━━━━━━━━━━━━━━━━━━━━━━━━━\u001b[0m \u001b[32m442.0/442.0 kB\u001b[0m \u001b[31m31.1 MB/s\u001b[0m eta \u001b[36m0:00:00\u001b[0m\n",
            "\u001b[?25hDownloading wrapt-1.14.1-cp310-cp310-manylinux_2_5_x86_64.manylinux1_x86_64.manylinux_2_17_x86_64.manylinux2014_x86_64.whl (77 kB)\n",
            "\u001b[2K   \u001b[90m━━━━━━━━━━━━━━━━━━━━━━━━━━━━━━━━━━━━━━━━\u001b[0m \u001b[32m77.9/77.9 kB\u001b[0m \u001b[31m5.9 MB/s\u001b[0m eta \u001b[36m0:00:00\u001b[0m\n",
            "\u001b[?25hInstalling collected packages: wrapt, tensorflow-estimator, ml-dtypes, keras, tensorboard, tensorflow, tfkan\n",
            "  Attempting uninstall: wrapt\n",
            "    Found existing installation: wrapt 1.16.0\n",
            "    Uninstalling wrapt-1.16.0:\n",
            "      Successfully uninstalled wrapt-1.16.0\n",
            "  Attempting uninstall: ml-dtypes\n",
            "    Found existing installation: ml-dtypes 0.4.1\n",
            "    Uninstalling ml-dtypes-0.4.1:\n",
            "      Successfully uninstalled ml-dtypes-0.4.1\n",
            "  Attempting uninstall: keras\n",
            "    Found existing installation: keras 3.4.1\n",
            "    Uninstalling keras-3.4.1:\n",
            "      Successfully uninstalled keras-3.4.1\n",
            "  Attempting uninstall: tensorboard\n",
            "    Found existing installation: tensorboard 2.17.0\n",
            "    Uninstalling tensorboard-2.17.0:\n",
            "      Successfully uninstalled tensorboard-2.17.0\n",
            "  Attempting uninstall: tensorflow\n",
            "    Found existing installation: tensorflow 2.17.0\n",
            "    Uninstalling tensorflow-2.17.0:\n",
            "      Successfully uninstalled tensorflow-2.17.0\n",
            "\u001b[31mERROR: pip's dependency resolver does not currently take into account all the packages that are installed. This behaviour is the source of the following dependency conflicts.\n",
            "tf-keras 2.17.0 requires tensorflow<2.18,>=2.17, but you have tensorflow 2.15.1 which is incompatible.\u001b[0m\u001b[31m\n",
            "\u001b[0mSuccessfully installed keras-2.15.0 ml-dtypes-0.3.2 tensorboard-2.15.2 tensorflow-2.15.1 tensorflow-estimator-2.15.0 tfkan-0.1.1 wrapt-1.14.1\n"
          ]
        }
      ]
    },
    {
      "cell_type": "markdown",
      "source": [
        "## TensorFlow and Keras Code with Custom Layers (DenseKAN and Conv2DKAN)\n",
        "This code snippet demonstrates how to import essential components for building a convolutional neural network using TensorFlow and Keras, along with custom layers (DenseKAN, Conv2DKAN) that might belong to an external library, `tfkan`.\n",
        "\n",
        "- **TensorFlow and Keras** are being used to build and train deep learning models.\n",
        "- **Numpy** is imported to handle array and matrix operations.\n",
        "- **Matplotlib** is imported for visualizing data, typically for plotting training/validation losses or images.\n",
        "- The custom `tfkan.layers` imports imply some custom layer types that expand on the basic Keras layers."
      ],
      "metadata": {
        "id": "mnjW570IO1Ot"
      }
    },
    {
      "cell_type": "code",
      "execution_count": 2,
      "metadata": {
        "id": "GIhqsItyj9bH"
      },
      "outputs": [],
      "source": [
        "# Import TensorFlow for deep learning capabilities\n",
        "import tensorflow as tf\n",
        "\n",
        "# Import layers from Keras for building neural networks\n",
        "from keras.layers import Dense, Conv2D, GlobalAveragePooling2D\n",
        "\n",
        "# Import custom layers from a hypothetical library 'tfkan'\n",
        "# These layers are extensions of standard Dense and Conv2D,\n",
        "# possibly with additional functionalities\n",
        "from tfkan.layers import DenseKAN, Conv2DKAN\n",
        "\n",
        "# Import NumPy for numerical operations, especially for handling arrays\n",
        "import numpy as np\n",
        "\n",
        "# Import Matplotlib for plotting and visualizing results\n",
        "from matplotlib import pyplot as plt"
      ]
    },
    {
      "cell_type": "markdown",
      "source": [
        "# Loading and Preprocessing the Fashion-MNIST Dataset\n",
        "\n",
        "In this code snippet, the Fashion-MNIST dataset is loaded and preprocessed for use in a convolutional neural network (CNN). The dataset consists of 70,000 grayscale images (28x28 pixels) across 10 different categories of clothing items. The training set contains 60,000 examples, while the test set includes 10,000 examples.\n",
        "\n",
        "### Steps:\n",
        "1. **Load the Fashion-MNIST dataset**: This is done using TensorFlow's built-in dataset loading function.\n",
        "2. **Normalize the data**: The pixel values, originally between 0 and 255, are scaled to values between 0 and 1 by dividing by 255.0. This helps to speed up the training process.\n",
        "3. **Expand dimensions**: Since CNN layers expect input data to have a certain shape, we add an extra dimension to indicate that the images are grayscale (1 channel)."
      ],
      "metadata": {
        "id": "QbjSJDckPMYe"
      }
    },
    {
      "cell_type": "code",
      "source": [
        "# Load the Fashion-MNIST dataset from TensorFlow datasets\n",
        "(x_train, y_train), (x_test, y_test) = tf.keras.datasets.fashion_mnist.load_data()\n",
        "\n",
        "# Normalize the image data to a range between 0 and 1 by dividing by 255\n",
        "# Expand dimensions to add an extra channel for grayscale (axis=-1)\n",
        "# Convert the data type to float32 for compatibility with most models\n",
        "x_train = np.expand_dims(x_train / 255.0, axis=-1).astype(np.float32)\n",
        "x_test = np.expand_dims(x_test / 255.0, axis=-1).astype(np.float32)"
      ],
      "metadata": {
        "colab": {
          "base_uri": "https://localhost:8080/"
        },
        "id": "FdZQhhBX6X4k",
        "outputId": "a25b7c6e-1afb-4bd6-aa9f-359d547963f3"
      },
      "execution_count": 3,
      "outputs": [
        {
          "output_type": "stream",
          "name": "stdout",
          "text": [
            "Downloading data from https://storage.googleapis.com/tensorflow/tf-keras-datasets/train-labels-idx1-ubyte.gz\n",
            "29515/29515 [==============================] - 0s 0us/step\n",
            "Downloading data from https://storage.googleapis.com/tensorflow/tf-keras-datasets/train-images-idx3-ubyte.gz\n",
            "26421880/26421880 [==============================] - 0s 0us/step\n",
            "Downloading data from https://storage.googleapis.com/tensorflow/tf-keras-datasets/t10k-labels-idx1-ubyte.gz\n",
            "5148/5148 [==============================] - 0s 0us/step\n",
            "Downloading data from https://storage.googleapis.com/tensorflow/tf-keras-datasets/t10k-images-idx3-ubyte.gz\n",
            "4422102/4422102 [==============================] - 0s 0us/step\n"
          ]
        }
      ]
    },
    {
      "cell_type": "code",
      "source": [
        "# Print out the shape of the train dataset.\n",
        "x_train.shape"
      ],
      "metadata": {
        "colab": {
          "base_uri": "https://localhost:8080/"
        },
        "id": "IuIULZJ_0hmw",
        "outputId": "cc7b6bb5-f100-4a29-9d05-0aa76aab1df7"
      },
      "execution_count": 4,
      "outputs": [
        {
          "output_type": "execute_result",
          "data": {
            "text/plain": [
              "(60000, 28, 28, 1)"
            ]
          },
          "metadata": {},
          "execution_count": 4
        }
      ]
    },
    {
      "cell_type": "markdown",
      "source": [
        "# Building a Simple Convolutional Neural Network (CNN) for Fashion-MNIST Classification\n",
        "\n",
        "This code snippet demonstrates how to build a simple Convolutional Neural Network (CNN) using the Keras API in TensorFlow to classify images from the Fashion-MNIST dataset. The network consists of two convolutional layers, followed by global average pooling, and finally a dense layer for classification.\n",
        "\n",
        "### Model Overview:\n",
        "1. **Conv2D Layers**: Extract features from the input image by applying filters to create feature maps.\n",
        "2. **GlobalAveragePooling2D**: Reduces the spatial dimensions of each feature map to a single value (global average) before feeding into the final classification layer.\n",
        "3. **Dense Layer with Softmax**: Classifies the image into one of 10 categories using the softmax activation function."
      ],
      "metadata": {
        "id": "PCqqEE1pPyOF"
      }
    },
    {
      "cell_type": "code",
      "source": [],
      "metadata": {
        "id": "0dkstHk8PzGT"
      },
      "execution_count": null,
      "outputs": []
    },
    {
      "cell_type": "code",
      "source": [
        "# Define a sequential model using Keras\n",
        "mlp = tf.keras.models.Sequential([\n",
        "\n",
        "    # First convolutional layer\n",
        "    # - 32 filters (feature detectors) of size 5x5\n",
        "    # - Stride of 2 means the filter will move 2 pixels at a time (reduces spatial dimensions faster)\n",
        "    # - 'valid' padding implies no padding around the input image (so the output size reduces)\n",
        "    # - ReLU activation function introduces non-linearity\n",
        "    Conv2D(filters=32, kernel_size=5, strides=2, padding='valid', activation='relu'),\n",
        "\n",
        "    # Second convolutional layer\n",
        "    # - 64 filters of size 5x5\n",
        "    # - Stride of 2, reducing spatial dimensions further\n",
        "    # - 'valid' padding again reduces size without any added borders\n",
        "    Conv2D(filters=64, kernel_size=5, strides=2, padding='valid', activation='relu'),\n",
        "\n",
        "    # Global Average Pooling layer\n",
        "    # - Reduces each feature map to a single number by averaging all values\n",
        "    GlobalAveragePooling2D(),\n",
        "\n",
        "    # Dense layer for classification\n",
        "    # - 10 output units (for the 10 classes in Fashion-MNIST)\n",
        "    # - Softmax activation to get class probabilities\n",
        "    Dense(10, activation='softmax')\n",
        "])\n",
        "\n",
        "# Build the model by defining the input shape (28x28x1 for grayscale images)\n",
        "mlp.build(input_shape=(None, 28, 28, 1))\n",
        "\n",
        "# Print a summary of the model architecture\n",
        "mlp.summary()"
      ],
      "metadata": {
        "colab": {
          "base_uri": "https://localhost:8080/"
        },
        "id": "PYKHcKke6ax4",
        "outputId": "47ac106c-1cb8-4d62-e495-36147bddb99f"
      },
      "execution_count": 3,
      "outputs": [
        {
          "output_type": "stream",
          "name": "stdout",
          "text": [
            "Model: \"sequential\"\n",
            "_________________________________________________________________\n",
            " Layer (type)                Output Shape              Param #   \n",
            "=================================================================\n",
            " conv2d (Conv2D)             (None, 12, 12, 32)        832       \n",
            "                                                                 \n",
            " conv2d_1 (Conv2D)           (None, 4, 4, 64)          51264     \n",
            "                                                                 \n",
            " global_average_pooling2d (  (None, 64)                0         \n",
            " GlobalAveragePooling2D)                                         \n",
            "                                                                 \n",
            " dense (Dense)               (None, 10)                650       \n",
            "                                                                 \n",
            "=================================================================\n",
            "Total params: 52746 (206.04 KB)\n",
            "Trainable params: 52746 (206.04 KB)\n",
            "Non-trainable params: 0 (0.00 Byte)\n",
            "_________________________________________________________________\n"
          ]
        }
      ]
    },
    {
      "cell_type": "code",
      "source": [
        "%%time  # This is a magic command to measure the time taken to execute the cell\n",
        "\n",
        "# Compile the model\n",
        "# - Optimizer: Adam optimizer with a learning rate of 1e-3 (0.001)\n",
        "# - Loss: Sparse categorical cross-entropy (used for integer-labeled multi-class classification)\n",
        "# - Metrics: Accuracy to monitor the model's performance during training\n",
        "mlp.compile(optimizer=tf.keras.optimizers.Adam(learning_rate=1e-3),\n",
        "            loss='sparse_categorical_crossentropy',\n",
        "            metrics=['accuracy'])\n",
        "\n",
        "# Train the model\n",
        "# - Epochs: 10 (number of passes through the training data)\n",
        "# - Batch size: 128 (number of samples processed before updating the model parameters)\n",
        "# - Validation data: Use the test set to evaluate the model's performance at the end of each epoch\n",
        "# - Verbose=1: Print progress during training\n",
        "mlp_history = mlp.fit(x_train, y_train,\n",
        "                      epochs=10,\n",
        "                      batch_size=128,\n",
        "                      validation_data=(x_test, y_test),\n",
        "                      verbose=1)"
      ],
      "metadata": {
        "colab": {
          "base_uri": "https://localhost:8080/"
        },
        "id": "obSeOKfM6efv",
        "outputId": "3eb084db-274e-4943-9966-3e51fc7a4ab2"
      },
      "execution_count": 4,
      "outputs": [
        {
          "output_type": "stream",
          "name": "stdout",
          "text": [
            "Epoch 1/10\n",
            "469/469 [==============================] - 27s 54ms/step - loss: 0.9348 - accuracy: 0.6695 - val_loss: 0.7195 - val_accuracy: 0.7412\n",
            "Epoch 2/10\n",
            "469/469 [==============================] - 14s 31ms/step - loss: 0.6599 - accuracy: 0.7597 - val_loss: 0.6346 - val_accuracy: 0.7726\n",
            "Epoch 3/10\n",
            "469/469 [==============================] - 14s 30ms/step - loss: 0.5843 - accuracy: 0.7894 - val_loss: 0.5765 - val_accuracy: 0.7969\n",
            "Epoch 4/10\n",
            "469/469 [==============================] - 15s 32ms/step - loss: 0.5401 - accuracy: 0.8067 - val_loss: 0.5418 - val_accuracy: 0.8062\n",
            "Epoch 5/10\n",
            "469/469 [==============================] - 15s 32ms/step - loss: 0.5089 - accuracy: 0.8192 - val_loss: 0.5200 - val_accuracy: 0.8155\n",
            "Epoch 6/10\n",
            "469/469 [==============================] - 14s 30ms/step - loss: 0.4832 - accuracy: 0.8271 - val_loss: 0.4929 - val_accuracy: 0.8259\n",
            "Epoch 7/10\n",
            "469/469 [==============================] - 20s 42ms/step - loss: 0.4636 - accuracy: 0.8359 - val_loss: 0.4769 - val_accuracy: 0.8311\n",
            "Epoch 8/10\n",
            "469/469 [==============================] - 15s 33ms/step - loss: 0.4461 - accuracy: 0.8411 - val_loss: 0.4859 - val_accuracy: 0.8205\n",
            "Epoch 9/10\n",
            "469/469 [==============================] - 18s 38ms/step - loss: 0.4344 - accuracy: 0.8454 - val_loss: 0.4560 - val_accuracy: 0.8350\n",
            "Epoch 10/10\n",
            "469/469 [==============================] - 15s 32ms/step - loss: 0.4201 - accuracy: 0.8505 - val_loss: 0.4510 - val_accuracy: 0.8404\n",
            "CPU times: user 3min 38s, sys: 4.91 s, total: 3min 43s\n",
            "Wall time: 3min 24s\n"
          ]
        }
      ]
    },
    {
      "cell_type": "markdown",
      "source": [
        "# Building a Kolmogorov-Arnold Network (KAN) for Fashion-MNIST Classification\n",
        "\n",
        "This code constructs a Kolmogorov-Arnold Network (KAN) model for classifying Fashion-MNIST images. In this context, the KAN architecture uses the Kolmogorov-Arnold representation theorem to approximate multivariate functions, implemented through layers like `Conv2DKAN` and `DenseKAN`, which may focus on decomposing the function into simpler parts."
      ],
      "metadata": {
        "id": "jHwkVBiGQj8_"
      }
    },
    {
      "cell_type": "code",
      "source": [
        "# Define a sequential KAN model\n",
        "kan = tf.keras.models.Sequential([\n",
        "\n",
        "    # First Conv2DKAN layer:\n",
        "    # - 8 filters with a kernel size of 5x5\n",
        "    # - Stride of 2 to reduce spatial resolution by half\n",
        "    # - 'valid' padding indicates no padding around the input\n",
        "    # - 'kan_kwargs' specifies the grid size for decomposition (custom KAN behavior)\n",
        "    Conv2DKAN(filters=8, kernel_size=5, strides=2, padding='valid', kan_kwargs={'grid_size': 3}),\n",
        "\n",
        "    # Layer normalization to stabilize the training by normalizing the activations\n",
        "    tf.keras.layers.LayerNormalization(),\n",
        "\n",
        "    # Second Conv2DKAN layer:\n",
        "    # - 16 filters with a kernel size of 5x5\n",
        "    # - Stride of 2 for further spatial downsampling\n",
        "    Conv2DKAN(filters=16, kernel_size=5, strides=2, padding='valid', kan_kwargs={'grid_size': 3}),\n",
        "\n",
        "    # Global Average Pooling to reduce each feature map to a single value\n",
        "    GlobalAveragePooling2D(),\n",
        "\n",
        "    # DenseKAN layer:\n",
        "    # - Fully connected layer using Kolmogorov-Arnold decomposition (grid size = 3)\n",
        "    # - Output layer with 10 units, one for each class in the Fashion-MNIST dataset\n",
        "    DenseKAN(10, grid_size=3),\n",
        "\n",
        "    # Softmax activation for converting logits into class probabilities\n",
        "    tf.keras.layers.Softmax()\n",
        "])\n",
        "\n",
        "# Build the KAN model specifying the input shape (28x28x1 for grayscale images)\n",
        "kan.build(input_shape=(None, 28, 28, 1))\n",
        "\n",
        "# Print a summary of the KAN model architecture\n",
        "kan.summary()"
      ],
      "metadata": {
        "colab": {
          "base_uri": "https://localhost:8080/"
        },
        "id": "LrKrIHQB6hpX",
        "outputId": "5248a3c8-9976-46fc-d3c2-a7c13b361836"
      },
      "execution_count": 5,
      "outputs": [
        {
          "output_type": "stream",
          "name": "stdout",
          "text": [
            "Model: \"sequential_1\"\n",
            "_________________________________________________________________\n",
            " Layer (type)                Output Shape              Param #   \n",
            "=================================================================\n",
            " conv2dkan (Conv2DKAN)       (None, 12, 12, 8)         1658      \n",
            "                                                                 \n",
            " layer_normalization (Layer  (None, 12, 12, 8)         16        \n",
            " Normalization)                                                  \n",
            "                                                                 \n",
            " conv2dkan_1 (Conv2DKAN)     (None, 4, 4, 16)          24416     \n",
            "                                                                 \n",
            " global_average_pooling2d_1  (None, 16)                0         \n",
            "  (GlobalAveragePooling2D)                                       \n",
            "                                                                 \n",
            " dense_kan (DenseKAN)        (None, 10)                1290      \n",
            "                                                                 \n",
            " softmax (Softmax)           (None, 10)                0         \n",
            "                                                                 \n",
            "=================================================================\n",
            "Total params: 27380 (106.95 KB)\n",
            "Trainable params: 24970 (97.54 KB)\n",
            "Non-trainable params: 2410 (9.41 KB)\n",
            "_________________________________________________________________\n"
          ]
        }
      ]
    },
    {
      "cell_type": "code",
      "source": [
        "%%time\n",
        "# Compile the KAN model\n",
        "# - Optimizer: Adam optimizer with a learning rate of 0.001 (1e-3)\n",
        "# - Loss: Sparse categorical cross-entropy (since the labels are integer-encoded)\n",
        "# - Metrics: Track accuracy to evaluate performance during training\n",
        "kan.compile(optimizer=tf.keras.optimizers.Adam(learning_rate=1e-3),\n",
        "            loss='sparse_categorical_crossentropy',\n",
        "            metrics=['accuracy'])\n",
        "\n",
        "# Train the KAN model\n",
        "# - Epochs: 10 (the number of complete passes through the training data)\n",
        "# - Batch size: 128 (the number of samples to process before updating the model)\n",
        "# - Validation data: Evaluate the model on the test set after each epoch to track its generalization ability\n",
        "# - Verbose=1: Print progress and results for each epoch\n",
        "kan_history = kan.fit(x_train, y_train,\n",
        "                      epochs=10,\n",
        "                      batch_size=128,\n",
        "                      validation_data=(x_test, y_test),\n",
        "                      verbose=1)"
      ],
      "metadata": {
        "colab": {
          "base_uri": "https://localhost:8080/"
        },
        "id": "c9IfGoOy6iWI",
        "outputId": "e4bb7d02-76c6-4e3f-9218-1ff38866119f"
      },
      "execution_count": 6,
      "outputs": [
        {
          "output_type": "stream",
          "name": "stdout",
          "text": [
            "Epoch 1/10\n",
            "469/469 [==============================] - 435s 920ms/step - loss: 1.1020 - accuracy: 0.6106 - val_loss: 0.7332 - val_accuracy: 0.7341\n",
            "Epoch 2/10\n",
            "469/469 [==============================] - 414s 882ms/step - loss: 0.6643 - accuracy: 0.7557 - val_loss: 0.6318 - val_accuracy: 0.7708\n",
            "Epoch 3/10\n",
            "469/469 [==============================] - 428s 912ms/step - loss: 0.5848 - accuracy: 0.7873 - val_loss: 0.5739 - val_accuracy: 0.7923\n",
            "Epoch 4/10\n",
            "469/469 [==============================] - 423s 902ms/step - loss: 0.5366 - accuracy: 0.8052 - val_loss: 0.5391 - val_accuracy: 0.8067\n",
            "Epoch 5/10\n",
            "469/469 [==============================] - 414s 884ms/step - loss: 0.5058 - accuracy: 0.8174 - val_loss: 0.5350 - val_accuracy: 0.8077\n",
            "Epoch 6/10\n",
            "469/469 [==============================] - 432s 922ms/step - loss: 0.4835 - accuracy: 0.8247 - val_loss: 0.5019 - val_accuracy: 0.8194\n",
            "Epoch 7/10\n",
            "469/469 [==============================] - 411s 876ms/step - loss: 0.4669 - accuracy: 0.8314 - val_loss: 0.4923 - val_accuracy: 0.8203\n",
            "Epoch 8/10\n",
            "469/469 [==============================] - 412s 877ms/step - loss: 0.4547 - accuracy: 0.8361 - val_loss: 0.4770 - val_accuracy: 0.8290\n",
            "Epoch 9/10\n",
            "469/469 [==============================] - 405s 864ms/step - loss: 0.4408 - accuracy: 0.8404 - val_loss: 0.4612 - val_accuracy: 0.8333\n",
            "Epoch 10/10\n",
            "469/469 [==============================] - 408s 870ms/step - loss: 0.4325 - accuracy: 0.8440 - val_loss: 0.4597 - val_accuracy: 0.8352\n",
            "CPU times: user 1h 43min 25s, sys: 7min 18s, total: 1h 50min 43s\n",
            "Wall time: 1h 10min 25s\n"
          ]
        }
      ]
    },
    {
      "cell_type": "code",
      "source": [
        "# Create a figure with a custom size (5x3 inches)\n",
        "fig = plt.figure(figsize=(5, 3))\n",
        "\n",
        "# Plot the MLP model's training accuracy\n",
        "# - 'mlp_history.history['accuracy']' contains the training accuracy at each epoch\n",
        "# - 'label' sets the label for the line in the legend\n",
        "# - 'ls' defines the line style: solid line for training data\n",
        "# - 'color' sets the color of the line to red\n",
        "plt.plot(mlp_history.history['accuracy'], label='mlp-train', ls=\"-\", color=\"red\")\n",
        "\n",
        "# Plot the MLP model's validation accuracy\n",
        "# - 'mlp_history.history['val_accuracy']' contains the validation accuracy\n",
        "# - Dashed line for validation data\n",
        "plt.plot(mlp_history.history['val_accuracy'], label='mlp-valid', ls=\"--\", color=\"red\")\n",
        "\n",
        "# Plot the KAN model's training accuracy\n",
        "# - Blue color is used to distinguish from MLP\n",
        "plt.plot(kan_history.history['accuracy'], label='kan-train', ls=\"-\", color=\"blue\")\n",
        "\n",
        "# Plot the KAN model's validation accuracy\n",
        "# - Dashed blue line for validation data\n",
        "plt.plot(kan_history.history['val_accuracy'], label='kan-valid', ls=\"--\", color=\"blue\")\n",
        "\n",
        "# Set the x-axis label to 'Epochs'\n",
        "plt.xlabel(\"Epochs\")\n",
        "\n",
        "# Set the y-axis label to 'Accuracy'\n",
        "plt.ylabel(\"Accuracy\")\n",
        "\n",
        "# Display the legend to identify the plotted lines\n",
        "plt.legend()\n",
        "\n",
        "# Show the plot\n",
        "plt.show()"
      ],
      "metadata": {
        "colab": {
          "base_uri": "https://localhost:8080/",
          "height": 329
        },
        "id": "9T946YCt6zZA",
        "outputId": "e79be4d6-eb66-4d19-ea86-ab7f98ed9106"
      },
      "execution_count": 7,
      "outputs": [
        {
          "output_type": "execute_result",
          "data": {
            "text/plain": [
              "<matplotlib.legend.Legend at 0x7a22500cdb70>"
            ]
          },
          "metadata": {},
          "execution_count": 7
        },
        {
          "output_type": "display_data",
          "data": {
            "text/plain": [
              "<Figure size 500x300 with 1 Axes>"
            ],
            "image/png": "[encoded data removed]"
          },
          "metadata": {}
        }
      ]
    },
    {
      "cell_type": "markdown",
      "source": [
        "## Phase one Insights\n",
        "\n",
        "### From the above experiment the following observations can be seen:\n",
        "1. AS it can be seen from the curve, the KANs model learns parameters very easily and does so with less number of parameters as compared to MLP\n",
        "2. As the dataset is too high, MLP is performing better because it can adjust to the complexities better than KANs model. However, KANs have a comparable learning curve as well, which can only mean that for smaller models, much like MobileNet, we can substitute the solution with a KAN model which will be less parametric and less memory."
      ],
      "metadata": {
        "id": "8f3Lse5KZ6RJ"
      }
    }
  ]
}